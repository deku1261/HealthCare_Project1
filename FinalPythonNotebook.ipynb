#MALAV

import pandas as pd
import os
import matplotlib.pyplot as plt
# %matplotlib notebook


df = pd.read_csv("../HealthCare_Project1/COVID-19_Vaccinations_in_the_United_States_County.csv",low_memory=False)

df.describe()
df.columns
df.info()
df.rename(
    columns={"Date": "Time"},
    inplace=True,
)
df['Time'] = pd.to_datetime(df['Time'])


q1_df = df.groupby(df['Time'])['Series_Complete_Pop_Pct'].mean()
q1_df = pd.DataFrame(q1_df)
q1_df
len(df['Time'])

# plt.scatter(q1_df.index,q1_df['Series_Complete_Pop_Pct'])
q1_df.plot(grid=True, color ='red')
plt.ylabel(" % of Series completion")
plt.title("Cov-19 Vaccination Series Completion", fontweight="bold")
plt.legend(loc ="best")
plt.show()

# q1_df['Date'] = pd.to_datetime(q1_df['Date'])
# plt.scatter(q1_df['Date'], q1_df['Series_Complete_Pop_Pct'])
# plt.show()


q1a_df = pd.DataFrame(df)
# Convert 'Date' column to datetime
q1a_df['Time'] = pd.to_datetime(q1a_df['Time'])

# Extract the year from 'Date' column
q1a_df['Year'] = q1a_df['Time'].dt.year

# Filter data for the years 2021, 2022, and 2023
q1a_df_yearly = q1a_df[q1a_df['Year'].isin([2021, 2022, 2023])]

# Calculate the average completion percentage for each year
yearly_completion = q1a_df_yearly.groupby('Year')['Series_Complete_Pop_Pct'].mean()

# Create bar chart
plt.bar(yearly_completion.index, yearly_completion, color="green")

# Add text annotations
for i, value in enumerate(yearly_completion):
    plt.text(yearly_completion.index[i], value, f"{value:.2f}%", ha='center', va='bottom')

plt.xlabel("Year")
plt.ylabel("% of Series completion")
plt.title("COVID-19 Vaccination Series Completion by Year", fontweight="bold")

plt.xticks(yearly_completion.index, map(int, yearly_completion.index))

# Show the plot
plt.show()

#ROBERT
#!/usr/bin/env python
# coding: utf-8
# In[1]:
#Dependencies and Set up 
import matplotlib.pyplot as plt
import pandas as pd
import numpy as np
import requests
import time
from scipy.stats import linregress
from matplotlib.patches import Patch
import seaborn as sns
from scipy.stats import zscore
# Study data files
Vaccine_df = "Vaccination.csv"
# Read the mouse data and the study results
Vaccine_df = pd.read_csv(Vaccine_df, low_memory=False)
Vaccine_df

Vaccine_df = Vaccine_df.dropna(subset=['Recip_State'])

df = Vaccine_df[['Date','Recip_State','Completeness_pct']].dropna()
df[:5]
df.Date.replace('.+/','', regex=True, inplace=True)
df[:5]
df2 = df.groupby(['Date','Recip_State']).mean().reset_index()
df2[:5]
# Order the dataframe column 'Completeness_pct' from greatest to least for every individual year in the 'Date' column
df2 = df2.sort_values(['Date', 'Completeness_pct'], ascending=[True, False])
df2.head()
# First detect the outliers in the dataset and then delete the outliers and copy the rest of the elements to another array.
# Calculate z-scores of 'Completeness_pct'
df2['z_score'] = zscore(df2['Completeness_pct'])
# Only keep rows in dataframe with z-score less than absolute value of 3
clean_df = df2.loc[df2['z_score'].abs()<=3]
# Drop the 'z_score' column as it's no longer needed
clean_df = clean_df.drop('z_score', axis=1)
clean_df.head()
# Create a new column 'Year' from 'Date'
clean_df['Year'] = clean_df['Date'].str[:4]
# Get the unique years
years = clean_df['Year'].unique()
# Create a figure and subplots
fig, axes = plt.subplots(nrows=2, ncols=2, figsize=(20,20))
# Flattening the axes array for easy indexing
axes = axes.flatten()
# Create the patches for the legend
legend_elements = [Patch(facecolor='green', edgecolor='green', label='Top 10 States'),
                   Patch(facecolor='blue', edgecolor='blue', label='Bottom 10 States')]  
# Loop over the years and create a bar plot for each year
for i, year in enumerate(years):
    df_year = clean_df[(clean_df['Year'] == year) & (clean_df['Completeness_pct'] != 0)]
# Distinguish the top ten states and bottom 10 states within the chart     
    df_year = pd.concat([df_year.head(10), df_year.tail(10)])
    colors = ['green' if x < 10 else 'blue' for x in range(len(df_year))]
# Make the bar chart
    df_year['Completeness_pct'].plot(kind='bar', ax=axes[i], color=colors)
    axes[i].set_title('Average Completeness Percentage by State for Year ' + year)  
    axes[i].set_xlabel('State') 
    axes[i].set_ylabel('Average Completed Dose Percentage')  
    axes[i].legend(handles=legend_elements)
# Retrieve the states from the dataframe 
state_labels = df_year['Recip_State'].values
# Set the x-ticks to the state labels
for i, ax in enumerate(axes):
    ax.set_xticklabels(state_labels)
    
# Increase the font size of the labels and title
for ax in axes:
    ax.set_title('Average Completeness Percentage by State for Year ' + year, fontsize=18)  
    ax.set_xlabel('State', fontsize=16) 
    ax.set_ylabel('Average Completed Dose Percentage', fontsize=16)  
    ax.tick_params(axis='both', which='major', labelsize=14)
# Show the plot
plt.tight_layout()
plt.show() 
# # Identify the outliers using the Interquartile Range (IQR) method
# Q1 = clean_df['Completeness_pct'].quantile(0.25)
# Q3 = clean_df['Completeness_pct'].quantile(0.75)
# IQR = Q3 - Q1
# # Define bounds for the outliers
# lower_bound = Q1 - 1.5 * IQR
# upper_bound = Q3 + 1.5 * IQR
# # Replace outliers with median value of the 'Completeness_pct' column
# median = clean_df['Completeness_pct'].median()
# clean_df['Completeness_pct'] = np.where((clean_df['Completeness_pct'] < lower_bound) | 
#                                         (clean_df['Completeness_pct'] > upper_bound), 
#                                         median, clean_df['Completeness_pct'])
# Box plot after cleaning the dataset
plt.figure(figsize=(10,6))
sns.boxplot(x='Year', y='Completeness_pct', data=clean_df)
plt.title('Distribution of Average Completed Dose Percentage by Year')
plt.xlabel('Year')
plt.ylabel('Average Completed Dose Percentage')
plt.show()

#RACHEL

# Read the mouse data and the study results
Vaccine_df = pd.read_csv(Vaccine_df, low_memory=False)

Vaccine_df.info()
Vaccine_df = Vaccine_df.replace(np.nan,0)
Vaccine_df.head
#Create a new DataFrame with only needed columns
Vaccine_df2 = Vaccine_df [['Recip_State', 'Series_Complete_Pop_Pct', 'Metro_status']]
Vaccine_df2.head()
# Labels for the sections of our pie chart
labels = ["Metro", "Non-Metro"]

# The values of each section of the pie chart
sizes = [5, 6]

# The colors of each section of the pie chart
colors = ["red", "blue","green"]
explode = (0.1, 0)
#Renameing Columns
Vaccine_df2 = Vaccine_df2.rename(columns={'Recip_State': 'State',
                                         'Series_Complete_Pop_Pct': 'Completed Series Vaccine %',
                                        'Metro_status': 'Metro Status' })
Vaccine_df2.head()
# Creates the pie chart based upon the values above and figures out percentage 
plt.pie(sizes, explode=explode, labels=labels, colors=colors,
         autopct="%1.1f%%", shadow=True, )
plt.legend(title = "Metro vs Non-Metro", loc='lower right')
plt.savefig('piechart')
Vaccine_df2 = Vaccine_df2.groupby('State')['Completed Series Vaccine %'].mean()

# Sort the data to identify the top 10 states
top_10_states = Vaccine_df2.sort_values(ascending=False).head(10)

# Create a bar chart
plt.bar(top_10_states.index, top_10_states.values)

# Add labels and title
plt.xlabel('State')
plt.ylabel('Average Vaccines Given')
plt.title('Top 10 States - Average COVID-19 Vaccines Given')

# Rotate the x-axis labels for better readability
plt.xticks(rotation=45)

plt.savefig('barchart')
# Display the bar chart
plt.show()


#ARIEL
#Include this line to make plots interactive
%matplotlib notebook

#Dependencies and Set up 
import matplotlib.pyplot as plt
import pandas as pd
import numpy as np
import requests
import time
from scipy.stats import linregress
import json

# Study data files
Vaccine_2021_data = "Vaccine2021.csv"
Vaccine_2022_data = "Vaccine2022.csv"
Vaccine_2023_data = "Vaccine2023.csv"


# Read the 2021 data 
Vaccine_2021_data = pd.read_csv(Vaccine_2021_data, low_memory=False)
Vaccine_2021_data

# Remove unecessary columns from the DataFrame and save the new DataFrame
Vaccine_2021_df = Vaccine_2021_data[["Date", "Series_Complete_Yes", "Series_Complete_5Plus", "Series_Complete_12Plus","Series_Complete_18Plus", "Series_Complete_65Plus"]]
Vaccine_2021_df

Vaccine_2021_df["Ages 5 to 17"]=Vaccine_2021_data["Series_Complete_5Plus"]+Vaccine_2021_data["Series_Complete_12Plus"]

# Remove unecessary columns from the DataFrame and save the new DataFrame
columns =["Date","Series_Complete_Yes", "Ages 5 to 17","Series_Complete_18Plus", "Series_Complete_65Plus"]
Vaccine_2021_df =Vaccine_2021_df.reindex(columns=columns)
Vaccine_2021_df.head()

#Rename Columns
Vaccine_2021_df = Vaccine_2021_df.rename(columns={"Series_Complete_Yes":"Series Complete 2021",
                                                        "Ages 5 to 17":"Series Complete Ages 5 to 17 2021",
                                                        "Series_Complete_18Plus":"Series Complete Ages 18+ 2021",
                                                        "Series_Complete_65Plus":"Series Complete Ages 65+ 2021",
                                                       })
Vaccine_2021_df


# Export into a csv
Vaccine_2021_df.to_csv("output_data/Vaccine 2021", index_label="Vaccine 2021")

print(Vaccine_2021_df[['Series Complete 2021','Series Complete Ages 5 to 17 2021','Series Complete Ages 18+ 2021','Series Complete Ages 65+ 2021']].sum())

x = [24334851177, 18333519920, 4789010198]
# Labels for the sections of our pie chart
labels = ["Ages 5 to 17", "Ages 18+","Ages 65+"]

# The values of each section of the pie chart
sizes = [5, 6, 7]

# The colors of each section of the pie chart
colors = ["blue", "orange", "green"]

# Tells matplotlib to separate the "Largest Dataset" section from the others
explode = (0.1, 0.05, 0)

fig, ax=plt.subplots()
ax.pie(x,labels=labels,colors=colors,autopct='%.0f%%',explode=explode)

ax.set_title('2021 Vaccine Series Completed by Age Groups')
plt.legend(loc="upper right", title = "Age Groups:")
#Save and display the chart
plt.savefig("Images/2021 Completed Chart.png")
plt.show()

# Read the 2022 data 
Vaccine_2022_data = pd.read_csv(Vaccine_2022_data, low_memory=False)
Vaccine_2022_data

# Remove unecessary columns from the DataFrame and save the new DataFrame
Vaccine_2022_df = Vaccine_2022_data[["Date", "Series_Complete_Yes", "Series_Complete_5Plus", "Series_Complete_12Plus","Series_Complete_18Plus", "Series_Complete_65Plus"]]
Vaccine_2022_df

Vaccine_2022_df["Ages 5 to 17"]=Vaccine_2022_data["Series_Complete_5Plus"]+Vaccine_2022_data["Series_Complete_12Plus"]

# Remove unecessary columns from the DataFrame and save the new DataFrame
columns =["Date","Series_Complete_Yes", "Ages 5 to 17","Series_Complete_18Plus", "Series_Complete_65Plus"]
Vaccine_2022_df =Vaccine_2022_df.reindex(columns=columns)
Vaccine_2022_df.head()

#Rename Columns
Vaccine_2022_df = Vaccine_2022_df.rename(columns={"Series_Complete_Yes":"Series Complete",
                                                        "Ages 5 to 17":"Series Complete Ages 5 to 17",
                                                        "Series_Complete_18Plus":"Series Complete Ages 18+",
                                                        "Series_Complete_65Plus":"Series Complete Ages 65+",
                                                        })
Vaccine_2022_df

# Export into a csv
Vaccine_2022_df.to_csv("output_data/Vaccine 2022", index_label="Vaccine 2022")

print(Vaccine_2022_df[['Series Complete','Series Complete Ages 5 to 17','Series Complete Ages 18+','Series Complete Ages 65+']].sum())

x2 = [82655796114, 37769267884, 9536767660]
# Labels for the sections of our pie chart
labels = ["Ages 5 to 17", "Ages 18+","Ages 65+"]

# The values of each section of the pie chart
sizes = [5, 6, 7]

# The colors of each section of the pie chart
colors = ["blue", "orange", "green"]

# Tells matplotlib to separate the "Largest Dataset" section from the others
explode = (0.1, 0.05, 0)

fig, ax=plt.subplots()
ax.pie(x2,labels=labels,colors=colors,autopct='%.0f%%',explode=explode)
plt.legend(loc="upper right", title = "Age Groups:")
ax.set_title('2022 Vaccine Series Completed by Age Groups')
#Save and display the chart
plt.savefig("Images/2022 Completed chart.png")
plt.show()

# Read the 2023 data 
Vaccine_2023_data = pd.read_csv(Vaccine_2023_data, low_memory=False)
Vaccine_2023_data

# Remove unecessary columns from the DataFrame and save the new DataFrame
Vaccine_2023_df = Vaccine_2023_data[["Date", "Series_Complete_Yes", "Series_Complete_5Plus", "Series_Complete_12Plus","Series_Complete_18Plus", "Series_Complete_65Plus"]]
Vaccine_2023_df

Vaccine_2023_df["Ages 5 to 17"]=Vaccine_2023_data["Series_Complete_5Plus"]+Vaccine_2023_data["Series_Complete_12Plus"]

# Remove unecessary columns from the DataFrame and save the new DataFrame
columns =["Date","Series_Complete_Yes", "Ages 5 to 17","Series_Complete_18Plus", "Series_Complete_65Plus"]
Vaccine_2023_df =Vaccine_2023_df.reindex(columns=columns)
Vaccine_2023_df.head()

#Rename Columns
Vaccine_2023_df = Vaccine_2023_df.rename(columns={"Series_Complete_Yes":"Series Complete",
                                                        "Ages 5 to 17":"Series Complete Ages 5 to 17",
                                                        "Series_Complete_18Plus":"Series Complete Ages 18+",
                                                        "Series_Complete_65Plus":"Series Complete Ages 65+",
                                                        })
Vaccine_2023_df

# Export into a csv
Vaccine_2023_df.to_csv("output_data/Vaccine 2023", index_label="Vaccine 2023")

print(Vaccine_2023_df[['Series Complete','Series Complete Ages 5 to 17','Series Complete Ages 18+','Series Complete Ages 65+']].sum())

x3 = [8442117265, 3839227983, 974271832]
# Labels for the sections of our pie chart
labels = ["Ages 5 to 17", "Ages 18+","Ages 65+"]

# The values of each section of the pie chart
sizes = [5, 6, 7]

# The colors of each section of the pie chart
colors = ["blue", "orange", "green"]

# Tells matplotlib to separate the "Largest Dataset" section from the others
explode = (0.1, 0.05, 0)

fig, ax=plt.subplots()
ax.pie(x3,labels=labels,colors=colors,autopct='%.0f%%',explode=explode)
plt.legend(loc="upper right", title = "Age Groups:")
ax.set_title('2023 Vaccine Series Completed by Age Groups')
#Save and display the chart
plt.savefig("Images/2023 Completed chart.png")
plt.show()

Vaccine_Data = pd.DataFrame({
    'Ages 5 to 17':[0,0,0,24334,82655,8442],
    'Ages 18+':[0,0,0,18333,37692,3839],
    'Ages 65+':[0,0,0,4789,9536,974]
    }, index=[2018,2019,2020,2021, 2022, 2023])
Vaccine_Data.plot(xlabel="Year", ylabel="Series Count in Billions", title="Year over Year Age Group")
#Save and display the chart
plt.savefig("Images/Year over Year chart.png")


